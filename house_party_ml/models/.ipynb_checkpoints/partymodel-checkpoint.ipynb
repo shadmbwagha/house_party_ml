{
 "cells": [
  {
   "cell_type": "code",
   "execution_count": null,
   "id": "5e2a6ee7",
   "metadata": {},
   "outputs": [],
   "source": [
    "import pandas as pd\n",
    "import numpy as np\n",
    "from faker import Faker\n",
    "\n",
    "fake = Faker()\n",
    "\n",
    "# Seed for reproducibility\n",
    "np.random.seed(42)\n",
    "\n",
    "# Define the number of records\n",
    "num_records = 100\n",
    "\n",
    "# Generate synthetic data\n",
    "data = {\n",
    "    \"age\": np.random.randint(22, 60, size=num_records),\n",
    "    \"gender\": np.random.choice([\"M\", \"F\"], size=num_records),\n",
    "    \"marital_status\": np.random.choice([\"Single\", \"Married\"], size=num_records),\n",
    "    \"number_of_children\": np.random.randint(0, 5, size=num_records),\n",
    "    \"department\": np.random.choice([\"IT\", \"HR\", \"Finance\", \"Marketing\", \"Sales\"], size=num_records),\n",
    "    \"position\": np.random.choice([\"Software Engineer\", \"HR Manager\", \"Accountant\", \"Marketing Specialist\", \"Sales Executive\"], size=num_records),\n",
    "    \"employment_status\": np.random.choice([\"Full-time\", \"Part-time\", \"Contract\"], size=num_records),\n",
    "    \"shift_timing\": np.random.choice([\"Day\", \"Night\"], size=num_records),\n",
    "    \"length_of_service\": np.random.randint(1, 15, size=num_records),\n",
    "    \"work_hours\": np.random.choice([20, 30, 40], size=num_records),\n",
    "    \"overtime_days\": np.random.randint(0, 5, size=num_records),\n",
    "    \"vacation_days\": np.random.randint(0, 5, size=num_records),\n",
    "    \"past_event_attendance\": np.random.choice([\"Yes\", \"No\"], size=num_records),\n",
    "    \"work_days_last_month\": np.random.randint(15, 23, size=num_records),\n",
    "    \"absent_days_last_month\": np.random.randint(0, 5, size=num_records),\n",
    "    \"event_interest\": np.random.randint(1, 11, size=num_records),\n",
    "    \"event_type_preference\": np.random.choice([\"Social\", \"Professional\", \"Family-friendly\"], size=num_records),\n",
    "    \"event_timing_preference\": np.random.choice([\"Weekday\", \"Weekend\", \"Evening\"], size=num_records),\n",
    "    \"family_commitments\": np.random.choice([\"Yes\", \"No\"], size=num_records),\n",
    "    \"health_issues\": np.random.choice([\"None\", \"Mild\", \"Severe\"], size=num_records),\n",
    "    \"transportation\": np.random.choice([\"Own vehicle\", \"Public transport\"], size=num_records),\n",
    "    \"event_date\": [fake.date_this_year() for _ in range(num_records)],\n",
    "    \"event_time\": [fake.time() for _ in range(num_records)],\n",
    "    \"event_location\": np.random.choice([\"Office\", \"Off-site\"], size=num_records),\n",
    "    \"prior_commitments\": np.random.choice([\"Yes\", \"No\"], size=num_records),\n",
    "}\n",
    "\n",
    "# Create DataFrame\n",
    "df = pd.DataFrame(data)\n",
    "\n",
    "# Save to CSV\n",
    "file_path = \"/data/attendance_data.csv\"\n",
    "df.to_csv(file_path, index=False)\n",
    "\n",
    "file_path\n"
   ]
  }
 ],
 "metadata": {
  "kernelspec": {
   "display_name": "Python 3 (ipykernel)",
   "language": "python",
   "name": "python3"
  },
  "language_info": {
   "codemirror_mode": {
    "name": "ipython",
    "version": 3
   },
   "file_extension": ".py",
   "mimetype": "text/x-python",
   "name": "python",
   "nbconvert_exporter": "python",
   "pygments_lexer": "ipython3",
   "version": "3.11.5"
  }
 },
 "nbformat": 4,
 "nbformat_minor": 5
}
